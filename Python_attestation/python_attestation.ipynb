{
 "cells": [
  {
   "cell_type": "code",
   "execution_count": 2,
   "metadata": {},
   "outputs": [
    {
     "name": "stdout",
     "output_type": "stream",
     "text": [
      "gnirts a si siht\n"
     ]
    }
   ],
   "source": [
    "string = 'this is a string'\n",
    "print(string[::-1])"
   ]
  },
  {
   "cell_type": "code",
   "execution_count": 3,
   "metadata": {},
   "outputs": [
    {
     "name": "stdout",
     "output_type": "stream",
     "text": [
      "0\n",
      "1\n",
      "2\n"
     ]
    }
   ],
   "source": [
    "for i in range(5):\n",
    "   if i < 3:\n",
    "      print(i)\n",
    "   else:\n",
    "      break"
   ]
  },
  {
   "cell_type": "code",
   "execution_count": 4,
   "metadata": {},
   "outputs": [
    {
     "name": "stdout",
     "output_type": "stream",
     "text": [
      "0\n",
      "2\n",
      "4\n",
      "6\n",
      "8\n"
     ]
    }
   ],
   "source": [
    "#Пример pass\n",
    "\n",
    "for i in range(10):\n",
    "   if i%2 == 0:\n",
    "      print(i)\n",
    "   else:\n",
    "      pass"
   ]
  },
  {
   "cell_type": "code",
   "execution_count": 5,
   "metadata": {},
   "outputs": [
    {
     "name": "stdout",
     "output_type": "stream",
     "text": [
      "[4, 9, 16, 25]\n"
     ]
    }
   ],
   "source": [
    "#Пример функции map\n",
    "\n",
    "def number_exponential(num):\n",
    "   return num**2\n",
    "\n",
    "number_list = [2,3,4,5]\n",
    "\n",
    "print(list(map(number_exponential, number_list)))"
   ]
  },
  {
   "cell_type": "code",
   "execution_count": 6,
   "metadata": {},
   "outputs": [
    {
     "name": "stdout",
     "output_type": "stream",
     "text": [
      "0\n",
      "test\n",
      "1\n",
      "test2\n",
      "2\n",
      "test3\n"
     ]
    }
   ],
   "source": [
    "#Пример enumerate\n",
    "\n",
    "iter_example = ['test', 'test2', 'test3']\n",
    "for idx, val in enumerate(iter_example):\n",
    "   print(idx)\n",
    "   print(val)"
   ]
  },
  {
   "cell_type": "code",
   "execution_count": 7,
   "metadata": {},
   "outputs": [
    {
     "name": "stdout",
     "output_type": "stream",
     "text": [
      "True\n"
     ]
    }
   ],
   "source": [
    "print(not 1 == 2)"
   ]
  },
  {
   "cell_type": "code",
   "execution_count": 8,
   "metadata": {},
   "outputs": [
    {
     "name": "stdout",
     "output_type": "stream",
     "text": [
      "2\n"
     ]
    }
   ],
   "source": [
    "print(5//2)"
   ]
  },
  {
   "cell_type": "code",
   "execution_count": 9,
   "metadata": {},
   "outputs": [
    {
     "name": "stdout",
     "output_type": "stream",
     "text": [
      "[100, 2, 3, 4, 5]\n",
      "[100, 2, 3, 4, 5]\n"
     ]
    }
   ],
   "source": [
    "list_example = [1,2,3,4,5]\n",
    "another_list = list_example\n",
    "another_list[0] = 100\n",
    "print(list_example)\n",
    "print(another_list)"
   ]
  },
  {
   "cell_type": "code",
   "execution_count": 10,
   "metadata": {},
   "outputs": [
    {
     "name": "stdout",
     "output_type": "stream",
     "text": [
      "[1, 2, 3, 4, 5]\n",
      "[100, 2, 3, 4, 5]\n"
     ]
    }
   ],
   "source": [
    "#Пример глубокой копии\n",
    "list_example = [1,2,3,4,5]\n",
    "#Создание глубокой копии с помощью атрибута .copy\n",
    "another_list = list_example.copy()\n",
    "another_list[0] = 100\n",
    "print(list_example)\n",
    "print(another_list)"
   ]
  },
  {
   "cell_type": "code",
   "execution_count": 11,
   "metadata": {},
   "outputs": [
    {
     "name": "stdout",
     "output_type": "stream",
     "text": [
      "test1\n"
     ]
    }
   ],
   "source": [
    "class sample:\n",
    "    pass\n",
    "test=sample()\n",
    "test.name=\"test1\"\n",
    "print(test.name)"
   ]
  },
  {
   "cell_type": "code",
   "execution_count": 12,
   "metadata": {},
   "outputs": [
    {
     "name": "stdout",
     "output_type": "stream",
     "text": [
      "apple grape orange\n"
     ]
    }
   ],
   "source": [
    "list_example = ['apple', 'grape', 'orange']\n",
    "print(' '.join(list_example))"
   ]
  },
  {
   "cell_type": "code",
   "execution_count": 13,
   "metadata": {},
   "outputs": [
    {
     "name": "stdout",
     "output_type": "stream",
     "text": [
      "True\n",
      "True\n"
     ]
    }
   ],
   "source": [
    "#Пример операторов членства\n",
    "\n",
    "print('me' in 'membership')\n",
    "print('mes' not in 'membership')"
   ]
  },
  {
   "cell_type": "code",
   "execution_count": 14,
   "metadata": {},
   "outputs": [
    {
     "name": "stdout",
     "output_type": "stream",
     "text": [
      "False\n",
      "True\n"
     ]
    },
    {
     "name": "stderr",
     "output_type": "stream",
     "text": [
      "<>:2: SyntaxWarning: \"is\" with a literal. Did you mean \"==\"?\n",
      "<>:3: SyntaxWarning: \"is not\" with a literal. Did you mean \"!=\"?\n",
      "<>:2: SyntaxWarning: \"is\" with a literal. Did you mean \"==\"?\n",
      "<>:3: SyntaxWarning: \"is not\" with a literal. Did you mean \"!=\"?\n",
      "C:\\Users\\larit\\AppData\\Local\\Temp\\ipykernel_4952\\994536082.py:2: SyntaxWarning: \"is\" with a literal. Did you mean \"==\"?\n",
      "  print(1 is '1')\n",
      "C:\\Users\\larit\\AppData\\Local\\Temp\\ipykernel_4952\\994536082.py:3: SyntaxWarning: \"is not\" with a literal. Did you mean \"!=\"?\n",
      "  print(2 is not '2')\n"
     ]
    }
   ],
   "source": [
    "#Пример операторов тождественности\n",
    "print(1 is '1')\n",
    "print(2 is not '2')"
   ]
  },
  {
   "cell_type": "code",
   "execution_count": 15,
   "metadata": {},
   "outputs": [
    {
     "name": "stdout",
     "output_type": "stream",
     "text": [
      "[(1, 'apple', 'x'), (2, 'grape', 2), (3, 'orange', True)]\n",
      "1\n",
      "apple\n",
      "x\n",
      "2\n",
      "grape\n",
      "2\n",
      "3\n",
      "orange\n",
      "True\n"
     ]
    }
   ],
   "source": [
    "#Пример функции Zip\n",
    "\n",
    "print(list(zip([1,2,3], ['apple', 'grape', 'orange'], ['x', 2, True])))\n",
    "\n",
    "for num, fruit, thing in zip([1,2,3], ['apple', 'grape', 'orange'], ['x', 2, True]):\n",
    "    print(num)\n",
    "    print(fruit)\n",
    "    print(thing)"
   ]
  },
  {
   "cell_type": "code",
   "execution_count": 16,
   "metadata": {},
   "outputs": [
    {
     "name": "stdout",
     "output_type": "stream",
     "text": [
      "0\n",
      "1\n",
      "2\n",
      "3\n",
      "4\n"
     ]
    }
   ],
   "source": [
    "for i in range(5):\n",
    "   print(i)"
   ]
  },
  {
   "cell_type": "code",
   "execution_count": 17,
   "metadata": {},
   "outputs": [
    {
     "name": "stdout",
     "output_type": "stream",
     "text": [
      "1\n",
      "2\n",
      "3\n",
      "4\n"
     ]
    }
   ],
   "source": [
    "for i in range(1,5):\n",
    "   print(i)"
   ]
  },
  {
   "cell_type": "code",
   "execution_count": 18,
   "metadata": {},
   "outputs": [
    {
     "name": "stdout",
     "output_type": "stream",
     "text": [
      "1\n",
      "3\n",
      "5\n",
      "7\n",
      "9\n"
     ]
    }
   ],
   "source": [
    "for i in range(1,10,2):\n",
    "   print(i)"
   ]
  },
  {
   "cell_type": "code",
   "execution_count": 19,
   "metadata": {},
   "outputs": [],
   "source": [
    "a = 1\n",
    "b = 2\n",
    "\n",
    "#Перестановка чисел\n",
    "a, b = b, a"
   ]
  },
  {
   "cell_type": "code",
   "execution_count": 20,
   "metadata": {},
   "outputs": [],
   "source": [
    "a, b, c = 1,2,3"
   ]
  },
  {
   "cell_type": "code",
   "execution_count": 21,
   "metadata": {},
   "outputs": [],
   "source": [
    "a=b=c=1"
   ]
  },
  {
   "attachments": {},
   "cell_type": "markdown",
   "metadata": {},
   "source": [
    "### Как вырваться из бесконечного цикла\n",
    "#### Чтобы прервать процесс, нужно нажать Ctrl+C"
   ]
  },
  {
   "cell_type": "code",
   "execution_count": 22,
   "metadata": {},
   "outputs": [
    {
     "name": "stdout",
     "output_type": "stream",
     "text": [
      "There is an error\n"
     ]
    }
   ],
   "source": [
    "a = (1,2,3)\n",
    "try:\n",
    "   a[0] = 2\n",
    "except:\n",
    "   print('There is an error')"
   ]
  },
  {
   "cell_type": "code",
   "execution_count": 23,
   "metadata": {},
   "outputs": [
    {
     "name": "stdout",
     "output_type": "stream",
     "text": [
      "49.5\n"
     ]
    }
   ],
   "source": [
    "import numpy as np\n",
    "\n",
    "a = np.array([i for i in range(100)])\n",
    "p = np.percentile(a, 50) #Возвращает 50-ый перцентиль - медиану\n",
    "\n",
    "print(p)"
   ]
  },
  {
   "cell_type": "code",
   "execution_count": 24,
   "metadata": {},
   "outputs": [
    {
     "data": {
      "text/plain": [
       "'c:\\\\Users\\\\larit\\\\OneDrive\\\\Documents\\\\GitHub\\\\DataScience-2022\\\\Python_attestation'"
      ]
     },
     "execution_count": 24,
     "metadata": {},
     "output_type": "execute_result"
    }
   ],
   "source": [
    "import os\n",
    "os.getcwd()"
   ]
  },
  {
   "cell_type": "code",
   "execution_count": 25,
   "metadata": {},
   "outputs": [
    {
     "name": "stdout",
     "output_type": "stream",
     "text": [
      "1[2:3]\n"
     ]
    }
   ],
   "source": [
    "a = '1'\n",
    "b = '2'\n",
    "c = '3'\n",
    "s = a + '[' + b + ':' + c + ']'\n",
    "print(s)"
   ]
  },
  {
   "cell_type": "code",
   "execution_count": 26,
   "metadata": {},
   "outputs": [],
   "source": [
    "from random import shuffle\n",
    "list_example = [1,2,3,4,5,6,7,8]\n",
    "shuffle(list_example)\n"
   ]
  },
  {
   "cell_type": "code",
   "execution_count": 27,
   "metadata": {},
   "outputs": [
    {
     "name": "stdout",
     "output_type": "stream",
     "text": [
      "1\n"
     ]
    }
   ],
   "source": [
    "a = '1'\n",
    "b = int(a) # преобразование строки в целочисленный объект\n",
    "print(b)"
   ]
  },
  {
   "cell_type": "code",
   "execution_count": 28,
   "metadata": {},
   "outputs": [
    {
     "data": {
      "text/plain": [
       "'3.10.10 (tags/v3.10.10:aad5f6a, Feb  7 2023, 17:20:36) [MSC v.1929 64 bit (AMD64)]'"
      ]
     },
     "execution_count": 28,
     "metadata": {},
     "output_type": "execute_result"
    }
   ],
   "source": [
    "import sys\n",
    "sys.version"
   ]
  },
  {
   "cell_type": "code",
   "execution_count": 29,
   "metadata": {},
   "outputs": [
    {
     "name": "stdout",
     "output_type": "stream",
     "text": [
      "      *\n",
      "     ***\n",
      "    *****\n",
      "   *******\n",
      "  *********\n",
      " ***********\n",
      "*************\n"
     ]
    }
   ],
   "source": [
    "def star_triangle(r):\n",
    "   for x in range(r):\n",
    "      print(' '*(r-x-1)+'*'*(2*x+1))\n",
    "\n",
    "star_triangle(7)"
   ]
  },
  {
   "cell_type": "code",
   "execution_count": 30,
   "metadata": {},
   "outputs": [
    {
     "data": {
      "text/plain": [
       "['hello', 'again', 'world', '!']"
      ]
     },
     "execution_count": 30,
     "metadata": {},
     "output_type": "execute_result"
    }
   ],
   "source": [
    "text = 'hello again world !'\n",
    "text.split(' ')"
   ]
  },
  {
   "cell_type": "code",
   "execution_count": 31,
   "metadata": {},
   "outputs": [
    {
     "name": "stdout",
     "output_type": "stream",
     "text": [
      "1\n",
      "4\n",
      "9\n",
      "16\n",
      "25\n",
      "36\n",
      "49\n"
     ]
    }
   ],
   "source": [
    "def squares(n):\n",
    "    i=1\n",
    "    while(i<=n):\n",
    "        yield i**2\n",
    "        i+=1\n",
    "for i in squares(7):\n",
    "    print(i)"
   ]
  },
  {
   "cell_type": "code",
   "execution_count": 32,
   "metadata": {},
   "outputs": [
    {
     "data": {
      "text/plain": [
       "4"
      ]
     },
     "execution_count": 32,
     "metadata": {},
     "output_type": "execute_result"
    }
   ],
   "source": [
    "34%10"
   ]
  },
  {
   "cell_type": "code",
   "execution_count": 33,
   "metadata": {},
   "outputs": [
    {
     "name": "stdout",
     "output_type": "stream",
     "text": [
      "None\n",
      "<class 'NoneType'>\n",
      "True\n"
     ]
    }
   ],
   "source": [
    "name = None\n",
    "surname = None\n",
    "second_name = None\n",
    "print(name)\n",
    "print(type(name))\n",
    "print(second_name is name)"
   ]
  },
  {
   "cell_type": "code",
   "execution_count": 34,
   "metadata": {},
   "outputs": [
    {
     "name": "stdout",
     "output_type": "stream",
     "text": [
      "Put on a raincoat\n"
     ]
    }
   ],
   "source": [
    "is_rainy = True  # дождь будет\n",
    "heavy_rain = True  # не сильный дождь\n",
    "\n",
    "if is_rainy:\n",
    "    # в данный блок дописали ещё один условный оператор\n",
    "    if heavy_rain:\n",
    "        #брать зонт\n",
    "        print(\"Put on a raincoat\")  \n",
    "    else:\n",
    "        #надеть дождевик\n",
    "        print(\"Take an umbrella\") \n",
    "else:\n",
    "    #не брать зонт\n",
    "    print(\"Don't take an umbrella\")"
   ]
  },
  {
   "cell_type": "code",
   "execution_count": 35,
   "metadata": {},
   "outputs": [
    {
     "name": "stdout",
     "output_type": "stream",
     "text": [
      "Not to issue a loan\n"
     ]
    }
   ],
   "source": [
    "credit_history = 'bad'\n",
    "deposit = True\n",
    "guarantors = False\n",
    "credit = 3000.0\n",
    "if credit_history == 'bad':\n",
    "    if deposit:\n",
    "        if guarantors:\n",
    "            print('Issue a loan')\n",
    "        else:\n",
    "            print('Not to issue a loan')\n",
    "    else:\n",
    "        print('Not to issue a loan')\n",
    "else:\n",
    "    if credit < 1000:\n",
    "        print('Issue a loan')\n",
    "    else:\n",
    "        print('Not to issue a loan')"
   ]
  },
  {
   "cell_type": "code",
   "execution_count": 36,
   "metadata": {},
   "outputs": [
    {
     "name": "stdout",
     "output_type": "stream",
     "text": [
      "Пароль идеален!\n"
     ]
    }
   ],
   "source": [
    "errors_dict = {\n",
    "    'length': 'Длина пароля не равна 8 символам',\n",
    "    'digits': 'Пароль состоит только из цифр',\n",
    "    'letters': 'Пароль состоит только из букв',\n",
    "    'upper': 'Отсутствуют заглавные буквы',\n",
    "    'lower': 'Отсутствуют строчные буквы',\n",
    "    'spec': 'Отсутствуют спецсимволы в пароле',\n",
    "    'bad_symbols': 'В пароле использованы непредусмотренные символы'\n",
    "}\n",
    "\n",
    "bad_symbols = ['!', '@', '$', '%', '^', '`', '&', '(', ')', '+', '=', '_', '~']\n",
    "\n",
    "password = 'Aafaf*al'\n",
    "\n",
    "# Проверяем длину пароля\n",
    "if len(password) == 8:\n",
    "    errors_dict.pop('length')\n",
    "\n",
    "# Проверяем, что пароль НЕ состоит только из цифр\n",
    "if not password.isdigit():\n",
    "    errors_dict.pop('digits')\n",
    "\n",
    "# Проверяем, что пароль НЕ состоит только из букв\n",
    "if not password.isalpha():\n",
    "    errors_dict.pop('letters')\n",
    "\n",
    "# Проверяем, есть ли в пароле заглавные буквы\n",
    "if password.lower() != password:\n",
    "    errors_dict.pop('upper')\n",
    "\n",
    "# Проверяем, есть ли в пароле строчные буквы\n",
    "if password.upper() != password:\n",
    "    errors_dict.pop('lower')\n",
    "\n",
    "# Проверяем, есть ли в пароле специальные символы\n",
    "if '*' in password or '-' in password or '#' in password:\n",
    "    errors_dict.pop('spec')\n",
    "    # Проверяем, встречаются ли спец символы в пароле несколько раз\n",
    "    if password.count('*') > 1 or password.count('-') > 1 or password.count('#') > 1:\n",
    "        errors_dict['spec_count'] = 'Какой-то из спецсимволов в пароле использован более одного раза'\n",
    "\n",
    "# Проверяем, есть ли в пароле запрещенные символы\n",
    "if len(set(password).intersection(set(bad_symbols))) == 0:\n",
    "    errors_dict.pop('bad_symbols')\n",
    "\n",
    "# Проверяем результирующую длину чек-листа\n",
    "if len(errors_dict) > 0:\n",
    "    print(list(errors_dict.values()))\n",
    "else:\n",
    "    print('Пароль идеален!')"
   ]
  },
  {
   "cell_type": "code",
   "execution_count": 74,
   "metadata": {},
   "outputs": [
    {
     "name": "stdout",
     "output_type": "stream",
     "text": [
      "['Red Square', 'Swallow Nest', 'Niagara Falls', 'Grand Canyon', 'Louvre', 'Hermitage']\n",
      "Russia\n"
     ]
    }
   ],
   "source": [
    "# Список мест, которые хотим посетить.\n",
    "places = [\n",
    "    'Red Square',\n",
    "    'Swallow Nest',\n",
    "    'Niagara Falls',\n",
    "    'Grand Canyon',\n",
    "    'Louvre',\n",
    "    'Hermitage'\n",
    "]\n",
    "# Словарь соответствия мест и стран\n",
    "location = {\n",
    "    'Red Square': 'Russia',\n",
    "    'Swallow Nest': 'Russia',\n",
    "    'Niagara Falls': 'USA',\n",
    "    'Grand Canyon': 'USA',\n",
    "    'Louvre': 'France',\n",
    "    'Hermitage': 'Russia'\n",
    "}\n",
    "# Создаём цикл по списку мест, которые хотим посетить.\n",
    "# place — текущее название места\n",
    "for place in places: \n",
    "    # Получаем страну из словаря location по ключу\n",
    "    country = location[place] \n",
    "    # Сравниваем название страны\n",
    "    if country != 'Russia': \n",
    "        # Помечаем место как недоступное\n",
    "        place = 'Unavailable' \n",
    "# Выводим результирующий список\n",
    "print(places)\n",
    "print(location['Red Square'])\n",
    "\n",
    "\n",
    "## Будет выведено:\n",
    "## ['Red Square', 'Swallow Nest', 'Niagara Falls', 'Grand Canyon', 'Louvre', 'Hermitage']"
   ]
  },
  {
   "cell_type": "code",
   "execution_count": 38,
   "metadata": {},
   "outputs": [
    {
     "name": "stdout",
     "output_type": "stream",
     "text": [
      "['Red Square', 'Swallow Nest', 'Unavailable', 'Unavailable', 'Unavailable', 'Hermitage']\n"
     ]
    }
   ],
   "source": [
    "# Список мест, которые хотим посетить.\n",
    "places = [\n",
    "    'Red Square',\n",
    "    'Swallow Nest',\n",
    "    'Niagara Falls',\n",
    "    'Grand Canyon',\n",
    "    'Louvre',\n",
    "    'Hermitage'\n",
    "]\n",
    "# Словарь соответствия мест и стран\n",
    "location = {\n",
    "    'Red Square': 'Russia',\n",
    "    'Swallow Nest': 'Russia',\n",
    "    'Niagara Falls': 'USA',\n",
    "    'Grand Canyon': 'USA',\n",
    "    'Louvre': 'France',\n",
    "    'Hermitage': 'Russia'\n",
    "}\n",
    "# Вычисляем длину списка\n",
    "N = len(places)\n",
    "# Создаём цикл по списку мест, которые хотим посетить.\n",
    "# i — текущее значение последовательности\n",
    "for i in range(N):\n",
    "    # places[i] — i-й элемент в списке places\n",
    "    # Получаем страну из словаря location по ключу\n",
    "    country = location[places[i]]\n",
    "    # Сравниваем название стран\n",
    "    if country != 'Russia':\n",
    "        # Помечаем место как недоступное\n",
    "        places[i] = 'Unavailable'\n",
    "# Выводим результирующий список\n",
    "print(places)\n",
    "\n",
    "\n",
    "## Будет выведено:\n",
    "## ['Red Square', 'Swallow Nest', 'Unavailable', 'Unavailable', 'Unavailable', 'Hermitage']"
   ]
  },
  {
   "cell_type": "code",
   "execution_count": 39,
   "metadata": {},
   "outputs": [
    {
     "name": "stdout",
     "output_type": "stream",
     "text": [
      "[1, 2, 4, 8, 16, 32, 64, 128, 256, 512, 1024]\n"
     ]
    }
   ],
   "source": [
    "my_list = [1]\n",
    "for i in range(10):\n",
    "    my_list.append(my_list[i] * 2)\n",
    "print(my_list)"
   ]
  },
  {
   "cell_type": "code",
   "execution_count": 40,
   "metadata": {},
   "outputs": [
    {
     "name": "stdout",
     "output_type": "stream",
     "text": [
      "Current i 0\n",
      "Current row [1, 2]\n",
      "Current j 0\n",
      "Current elem 1\n",
      "Current j 1\n",
      "Current elem 2\n",
      "\n",
      "Current i 1\n",
      "Current row [3, 4]\n",
      "Current j 0\n",
      "Current elem 3\n",
      "Current j 1\n",
      "Current elem 4\n",
      "\n",
      "Current i 2\n",
      "Current row [5, 6]\n",
      "Current j 0\n",
      "Current elem 5\n",
      "Current j 1\n",
      "Current elem 6\n",
      "\n"
     ]
    }
   ],
   "source": [
    "matrix = [\n",
    "    [1, 2], \n",
    "    [3, 4], \n",
    "    [5, 6]\n",
    "]\n",
    "\n",
    "\n",
    "# Вычисляем длину внешнего списка\n",
    "N = len(matrix) \n",
    "# Вычисляем длину вложенного списка\n",
    "M = len(matrix[0]) \n",
    "# Создаём цикл по последовательности чисел от 0 до N (не включая N)\n",
    "# i — текущий элемент последовательности (индекс строки)\n",
    "for i in range(N): \n",
    "    # Выводим текущее значение i\n",
    "    print('Current i', i) \n",
    "    # Выводим i-е значение внешнего списка\n",
    "    print('Current row', matrix[i]) \n",
    "    # Создаём цикл по последовательности чисел от 0 до M (не включая M)\n",
    "    # j — текущий элемент последовательности (индекс столбца)\n",
    "    for j in range(M):\n",
    "        # Выводим текущее значение j\n",
    "        print('Current j', j) \n",
    "        # Выводим элемент под индексами i и j\n",
    "        print('Current elem', matrix[i][j]) \n",
    "    # Отделяем вывод на экран пустой строкой\n",
    "    print() "
   ]
  },
  {
   "cell_type": "code",
   "execution_count": 41,
   "metadata": {},
   "outputs": [
    {
     "name": "stdout",
     "output_type": "stream",
     "text": [
      "Alarm is set 10:0\n",
      "Alarm is set 10:30\n",
      "Alarm is set 15:0\n",
      "Alarm is set 15:30\n",
      "Alarm is set 20:0\n",
      "Alarm is set 20:30\n"
     ]
    }
   ],
   "source": [
    "# Создаём список часов\n",
    "hours = list(range(10, 24, 5)) \n",
    "# Создаём список минут\n",
    "minutes = list(range(0, 60, 30)) \n",
    "# Создаём цикл по элементам списка часов\n",
    "for hour in hours: #hour — текущее значение часа (10, 15, 20)\n",
    "    # Создаём цикл по элементам списка минут\n",
    "    for minute in minutes: #minute — текущее значение минуты\n",
    "        # Выводим время\n",
    "        print('Alarm is set {}:{}'.format(hour, minute))"
   ]
  },
  {
   "cell_type": "code",
   "execution_count": 42,
   "metadata": {},
   "outputs": [
    {
     "name": "stdout",
     "output_type": "stream",
     "text": [
      "Count symbol 'e': 5\n"
     ]
    }
   ],
   "source": [
    "# Заданный список строк\n",
    "str_list = ['text', 'morning', 'notepad', 'television', 'ornament']\n",
    "# Задаём начальное количество символов 'e' \n",
    "count = 0 \n",
    "# Создаём цикл по элементам списка str_list\n",
    "for text in str_list: \n",
    "    # Создаём цикл по символам в строке text\n",
    "    for symbol in text:\n",
    "        # Проверяем условие, что текущий символ == 'e'\n",
    "        if symbol == 'e': \n",
    "            # Если условие истинно, увеличиваем количество символов 'e'.\n",
    "            count += 1 \n",
    "# Выводим результат\n",
    "print(\"Count symbol 'e':\", count) "
   ]
  },
  {
   "cell_type": "code",
   "execution_count": 43,
   "metadata": {},
   "outputs": [
    {
     "name": "stdout",
     "output_type": "stream",
     "text": [
      "Minimal elements: [1, 2, 4]\n"
     ]
    }
   ],
   "source": [
    "# Заданная матрица\n",
    "random_matrix = [\n",
    "    [9, 2, 1],\n",
    "    [2, 5, 3],\n",
    "    [4, 8, 5]\n",
    "] \n",
    "# Задаём пустой список с минимальными значениями строк\n",
    "min_value_rows = [] \n",
    "# Создаём цикл по строкам матрицы random_matrix \n",
    "for row in random_matrix: # row — текущая строка таблицы\n",
    "    # Задаём начальное значение кандидата на минимум\n",
    "    min_value = row[0] \n",
    "    # Создаём цикл по элементам списка row\n",
    "    # elem — текущий элемент из списка row\n",
    "    for elem in row: \n",
    "        # Проверяем условие, что текущий элемент меньше кандидата на минимум.\n",
    "        if elem < min_value:\n",
    "            # Если условие выполняется, заменяем кандидата на минимум.\n",
    "            min_value = elem\n",
    "    # Добавляем полученный минимум строки в список\n",
    "    min_value_rows.append(min_value) \n",
    "# Выводим минимальные элементы\n",
    "print(\"Minimal elements:\", min_value_rows)"
   ]
  },
  {
   "cell_type": "code",
   "execution_count": 44,
   "metadata": {},
   "outputs": [
    {
     "name": "stdout",
     "output_type": "stream",
     "text": [
      "Summa 15\n",
      "Count iteration 3\n"
     ]
    }
   ],
   "source": [
    "table = [\n",
    "    [1, 3, 6],\n",
    "    [4, 6, 8],\n",
    "    [10, 33, 53]\n",
    "]\n",
    "# Вычисляем количество строк\n",
    "N = len(table)\n",
    "# Задаём переменную суммы \n",
    "S = 0 \n",
    "# Задаём переменную количества итераций\n",
    "count = 0 \n",
    "# Создаём цикл по индексам строк таблицы\n",
    "for i in range(N): # i — индекс строки\n",
    "    # Увеличиваем сумму на элемент в i-й строке и 0-ом столбце\n",
    "    S += table[i][0] \n",
    "    # Увеличиваем количество итераций\n",
    "    count += 1 \n",
    "# Выводим сумму \n",
    "print('Summa', S) \n",
    "# Выводим количество итераций\n",
    "print('Count iteration', count) "
   ]
  },
  {
   "cell_type": "code",
   "execution_count": 45,
   "metadata": {},
   "outputs": [
    {
     "name": "stdout",
     "output_type": "stream",
     "text": [
      "20\n"
     ]
    }
   ],
   "source": [
    "count = 0\n",
    "for i in range(5):\n",
    "    for j in range(4):\n",
    "        count += 1\n",
    "print(count)"
   ]
  },
  {
   "cell_type": "code",
   "execution_count": 46,
   "metadata": {},
   "outputs": [
    {
     "name": "stdout",
     "output_type": "stream",
     "text": [
      "0 5\n",
      "1 9\n",
      "2 13\n"
     ]
    }
   ],
   "source": [
    "my_list = [5, 9, 13]\n",
    "# Создаём цикл одновременно по индексам и элементам списка\n",
    "for index, value in enumerate(my_list):\n",
    "    # Выводим индекс и значение\n",
    "    print(index, value)\n",
    "\n",
    "## Будет выведено:\n",
    "## 0 5\n",
    "## 1 9\n",
    "## 2 13"
   ]
  },
  {
   "cell_type": "code",
   "execution_count": 47,
   "metadata": {},
   "outputs": [
    {
     "name": "stdout",
     "output_type": "stream",
     "text": [
      "Day 1 : -5\n",
      "Day 2 : 2\n",
      "Day 3 : 4\n",
      "Day 4 : 8\n",
      "Day 5 : 12\n",
      "Day 6 : -7\n",
      "Day 7 : 5\n"
     ]
    }
   ],
   "source": [
    "# Заданный список динамики числа пользователей\n",
    "user_dynamics = [-5, 2, 4, 8, 12, -7, 5] \n",
    "# Создаём цикл по индексам и элементам списка \n",
    "# i — индекс текущего элемента, dynamic — текущее значение из списка\n",
    "for i, dynamic in enumerate(user_dynamics):\n",
    "    # Выводим номер дня и динамику на этот день \n",
    "    print(\"Day {} : {}\".format(i+1, dynamic)) "
   ]
  },
  {
   "cell_type": "code",
   "execution_count": 48,
   "metadata": {},
   "outputs": [
    {
     "name": "stdout",
     "output_type": "stream",
     "text": [
      "Churn value:  -5\n",
      "Number day:  1\n",
      "Churn value:  -7\n",
      "Number day:  6\n"
     ]
    }
   ],
   "source": [
    "user_dynamics = [-5, 2, 4, 8, 12, -7, 5] #заданный список динамики пользователей\n",
    "number_negative = None # объявляем переменную, в которой будем хранить номер последнего дня оттока, изначально она пустая (None)\n",
    "#создаём цикл по индексам и элементам списка \n",
    "for i, dynamic in enumerate(user_dynamics): #index — индекс текущего элемента, dymanic — текущее значение из списка\n",
    "    if dynamic < 0:\n",
    "        number_negative = i+1 #перезаписываем значение номера дня\n",
    "        print(\"Churn value: \", dynamic) # выводим количество ушедших в этот день пользователей\n",
    "        print(\"Number day: \", number_negative) # выводим номер дня"
   ]
  },
  {
   "cell_type": "code",
   "execution_count": 49,
   "metadata": {},
   "outputs": [
    {
     "name": "stdout",
     "output_type": "stream",
     "text": [
      "Inventory is full!\n",
      "['Blood Moon Sword', 'Sunset-colored sword', 'Bow of Stars']\n"
     ]
    }
   ],
   "source": [
    "# Список вещей, которые нужно положить в инвентарь.\n",
    "to_inventory = ['Blood Moon Sword', 'Sunset-colored sword', 'Bow of Stars', 'Gain Stone']\n",
    "# Задаём пустой инвентарь\n",
    "inventory = [] \n",
    "# Создаём цикл по элементам списка to_inventory\n",
    "# item — текущий элемент списка\n",
    "for item in to_inventory: \n",
    "    # Проверяем условие, что инвентарь уже заполнен.\n",
    "    if len(inventory) == 3: \n",
    "        # Если условие выполняется,выводим предупреждение об ошибке.\n",
    "        print('Inventory is full!') \n",
    "        # Завершаем работу цикла\n",
    "        break \n",
    "    else:\n",
    "        # В противном случае добавляем предмет в инвентарь\n",
    "        inventory.append(item)\n",
    "# Выводим результирующий инвентарь \n",
    "print(inventory)"
   ]
  },
  {
   "cell_type": "code",
   "execution_count": 50,
   "metadata": {},
   "outputs": [
    {
     "name": "stdout",
     "output_type": "stream",
     "text": [
      "Send present user 103303\n",
      "Send present user 100423\n"
     ]
    }
   ],
   "source": [
    "# Заданный словарь\n",
    "client_status = {\n",
    "    103303: 'yes', \n",
    "    103044: 'no',\n",
    "    100423: 'yes',\n",
    "    103032: 'no',\n",
    "    103902: 'no'\n",
    "}\n",
    "# Создаём цикл по ключам словаря client_status\n",
    "for user_id in client_status: # user_id — текущий ключ словаря\n",
    "    \n",
    "    if client_status[user_id] == 'no':\n",
    "        # Если текущий статус == 'no', переходим на следующую итерацию.\n",
    "        continue\n",
    "    else:\n",
    "        # В противном случае переходим на следующую итерацию\n",
    "        print('Send present user', user_id)"
   ]
  },
  {
   "cell_type": "code",
   "execution_count": 51,
   "metadata": {},
   "outputs": [
    {
     "name": "stdout",
     "output_type": "stream",
     "text": [
      "1\n",
      "2\n",
      "3\n"
     ]
    }
   ],
   "source": [
    "# Задан список\n",
    "lst = [1,2,3,4,5]\n",
    "# Создаём цикл по элементам списка\n",
    "for elem in lst:\n",
    "    if elem > 3:\n",
    "        # Если elem больше 3, ничего не делаем.\n",
    "        pass\n",
    "    else:\n",
    "        # В противном случае выводим элемент\n",
    "        print(elem)"
   ]
  },
  {
   "cell_type": "code",
   "execution_count": 52,
   "metadata": {},
   "outputs": [
    {
     "name": "stdout",
     "output_type": "stream",
     "text": [
      "{'t': 88, 'h': 63, 'e': 112, 'r': 39, 'a': 70, 'b': 15, 'i': 47, '-': 2, 'o': 80, 'l': 55, 'w': 31, 'n': 57, 's': 60, 'g': 17, 'k': 14, 'u': 22, 'f': 28, 'm': 17, 'y': 18, ',': 13, 'd': 43, 'p': 23, 'c': 9, 'v': 8, '.': 5, 'x': 1, ';': 3, 'j': 2, '`': 3, \"'\": 5, ':': 1, '!': 4, '(': 1, ')': 1}\n"
     ]
    }
   ],
   "source": [
    "text = \"\"\"\n",
    "The rabbit-hole went straight on like a tunnel for some way, and then dipped suddenly down, so suddenly that Alice had not a moment to think about stopping herself before she found herself falling down a very deep well.\n",
    " \n",
    "Either the well was very deep, or she fell very slowly, for she had plenty of time as she went down to look about her and to wonder what was going to happen next. First, she tried to look down and make out what she was coming to, but it was too dark to see anything; then she looked at the sides of the well, and noticed that they were filled with cupboards and book-shelves; here and there she saw maps and pictures hung upon pegs. She took down a jar from one of the shelves as she passed; it was labelled `ORANGE MARMALADE', but to her great disappointment it was empty: she did not like to drop the jar for fear of killing somebody, so managed to put it into one of the cupboards as she fell past it.\n",
    " \n",
    "`Well!' thought Alice to herself, `after such a fall as this, I shall think nothing of tumbling down stairs! How brave they'll all think me at home! Why, I wouldn't say anything about it, even if I fell off the top of the house!' (Which was very likely true.)\n",
    "\"\"\"\n",
    "\n",
    "\n",
    "# Приводим текст к нижнему регистру\n",
    "text = text.lower() \n",
    "# Заменяем пробелы на пустые строки\n",
    "text = text.replace(\" \", \"\") \n",
    "# Заменяем символы переноса строки на пустые строки\n",
    "text = text.replace(\"\\n\", \"\") \n",
    "# Создаём пустой словарь для подсчёта количества символов\n",
    "count_dict = {} \n",
    "# Создаём цикл по символам в строке text\n",
    "for symbol in text: # symbol — текущий символ в тексте\n",
    "    # Проверяем условие, что символа ещё нет среди ключей словаря.\n",
    "    if symbol not in count_dict:\n",
    "        # Если условие выполняется, заносим символ в словарь со значением 1.\n",
    "        count_dict[symbol] = 1 #\n",
    "    else: \n",
    "        # В противном случае увеличиваем частоту символа\n",
    "        count_dict[symbol] += 1 \n",
    "# Выводим результирующий словарь\n",
    "print(count_dict) "
   ]
  },
  {
   "cell_type": "code",
   "execution_count": 53,
   "metadata": {},
   "outputs": [
    {
     "name": "stdout",
     "output_type": "stream",
     "text": [
      "{'she': 3, 'sells': 3, 'sea': 6, 'shells': 6, 'on': 2, 'the': 4, 'shore': 3, 'that': 2, 'are': 2, 'i': 2, 'am': 2, 'sure': 2, 'so': 1, 'if': 1}\n"
     ]
    }
   ],
   "source": [
    "text = \"\"\"\n",
    "She sells sea shells on the sea shore;\n",
    "The shells that she sells are sea shells I am sure.\n",
    "So if she sells sea shells on the sea shore,\n",
    "I am sure that the shells are sea shore shells.\n",
    "\"\"\"\n",
    "# Приводим текст к нижнему регистру\n",
    "text = text.lower() \n",
    "# Заменяем символы переноса строки на пробелы\n",
    "text = text.replace(\"\\n\", \" \") \n",
    "# Заменяем запятые на пустые строки\n",
    "text = text.replace(\",\", \"\") \n",
    "# Заменяем точки на пустые строки\n",
    "text = text.replace(\".\", \"\") \n",
    "# Заменяем точки с запятыми на пустые строки\n",
    "text = text.replace(\";\", \"\") \n",
    "# Разделяем текст на слова\n",
    "word_list = text.split()\n",
    "# Создаём пустой словарь для подсчёта количества слов\n",
    "count_dict = {} \n",
    "# Создаём цикл по словам в списке word_list\n",
    "# word — текущее слово из списка word_list\n",
    "for word in word_list: \n",
    "    # Проверяем условие, что слова ещё нет среди ключей словаря.\n",
    "    if word not in count_dict:\n",
    "        # Если условие выполняется, заносим слово в словарь со значением 1.\n",
    "        count_dict[word] = 1\n",
    "    else: \n",
    "        # В противном случае увеличиваем частоту слова\n",
    "        count_dict[word] += 1\n",
    "# Выводим результирующий словарь\n",
    "print(count_dict) "
   ]
  },
  {
   "cell_type": "code",
   "execution_count": 54,
   "metadata": {},
   "outputs": [
    {
     "data": {
      "text/plain": [
       "238328"
      ]
     },
     "execution_count": 54,
     "metadata": {},
     "output_type": "execute_result"
    }
   ],
   "source": [
    "python_string = 'Hello! My name is Python. I will help you to analyze some data'\n",
    "len(python_string)**3"
   ]
  },
  {
   "cell_type": "code",
   "execution_count": 55,
   "metadata": {},
   "outputs": [
    {
     "name": "stdout",
     "output_type": "stream",
     "text": [
      "None\n"
     ]
    }
   ],
   "source": [
    "def mult(*numbers):\n",
    "    result = 1\n",
    "    for number in numbers:\n",
    "        result *= number\n",
    "   \n",
    "\n",
    "print(mult(3,5,10))\n"
   ]
  },
  {
   "cell_type": "code",
   "execution_count": 56,
   "metadata": {},
   "outputs": [
    {
     "name": "stdout",
     "output_type": "stream",
     "text": [
      "Python, SQL, Machine Learning, Statistics\n"
     ]
    }
   ],
   "source": [
    "langs = ['Python', 'SQL', 'Machine Learning', 'Statistics']\n",
    "print(*langs, sep = ', ')"
   ]
  },
  {
   "cell_type": "code",
   "execution_count": 57,
   "metadata": {},
   "outputs": [
    {
     "name": "stdout",
     "output_type": "stream",
     "text": [
      "Kuznetsov: 4.454545454545454\n",
      "None\n"
     ]
    }
   ],
   "source": [
    "marks = [4,5,5,5,5,3,4,4,5,4,5]\n",
    "def mean_mark(name, *marks):\n",
    "    result = sum(marks) / len(marks)\n",
    "    # Не возвращаем результат, а печатаем его\n",
    "    print(name+':', result)\n",
    "print(mean_mark('Kuznetsov', *marks))\n"
   ]
  },
  {
   "cell_type": "code",
   "execution_count": 58,
   "metadata": {},
   "outputs": [
    {
     "name": "stdout",
     "output_type": "stream",
     "text": [
      "Week schedule:\n",
      "monday - Python\n",
      "tuesday - SQL\n",
      "friday - ML\n"
     ]
    }
   ],
   "source": [
    "def schedule(**kwargs):\n",
    "    print(\"Week schedule:\")\n",
    "    for key in kwargs:\n",
    "        print(key, kwargs[key], sep=' - ')\n",
    " \n",
    "schedule(monday='Python', tuesday='SQL', friday='ML')"
   ]
  },
  {
   "cell_type": "code",
   "execution_count": 59,
   "metadata": {},
   "outputs": [
    {
     "name": "stdout",
     "output_type": "stream",
     "text": [
      "Week schedule:\n",
      "Wednesday - Maths\n",
      "Thursday - SQL\n",
      "Friday - Statistics\n"
     ]
    }
   ],
   "source": [
    "lessons = {\n",
    "    'Wednesday': 'Maths',\n",
    "    'Thursday': 'SQL',\n",
    "    'Friday': 'Statistics'\n",
    "}\n",
    "# Использовали оператор ** для распаковки словаря в набор\n",
    "# значений именованных аргументов\n",
    "schedule(**lessons)"
   ]
  },
  {
   "cell_type": "code",
   "execution_count": 60,
   "metadata": {},
   "outputs": [
    {
     "name": "stdout",
     "output_type": "stream",
     "text": [
      "(1, 4, 5, 7)\n",
      "{'name': 'Ivanov', 'age': 19, 'city': 'Moscow'}\n"
     ]
    }
   ],
   "source": [
    "def print_args(*args, **kwargs):\n",
    "    print(args)\n",
    "    print(kwargs)\n",
    " \n",
    "print_args(1,4,5,7, name='Ivanov', age=19, city='Moscow')\n",
    "# Будет напечатано:\n",
    "# (1, 4, 5, 7)\n",
    "# {'name': 'Ivanov', 'age': 19, 'city': 'Moscow'}"
   ]
  },
  {
   "cell_type": "code",
   "execution_count": 61,
   "metadata": {},
   "outputs": [
    {
     "name": "stdout",
     "output_type": "stream",
     "text": [
      "1, 4, 6, 8; 12, 45, 56, 190, 111; Python, Functions; "
     ]
    }
   ],
   "source": [
    "list1 = [1,4,6,8]\n",
    "list2 = [12, 45, 56, 190, 111]\n",
    "list3 = ['Python', 'Functions']\n",
    " \n",
    "# Один раз запишем в словарь параметры для печати\n",
    "# через print: разделитель — запятая,\n",
    "# окончание строки — точка с запятой\n",
    "how = {'sep': ', ', 'end': '; '}\n",
    " \n",
    "# Распаковываем и список, и словарь how\n",
    "print(*list1, **how)\n",
    "print(*list2, **how)\n",
    "print(*list3, **how)"
   ]
  },
  {
   "cell_type": "code",
   "execution_count": 62,
   "metadata": {},
   "outputs": [
    {
     "data": {
      "text/plain": [
       "'odd'"
      ]
     },
     "execution_count": 62,
     "metadata": {},
     "output_type": "execute_result"
    }
   ],
   "source": [
    "# Напоминание: оператор % используется для получения остатка\n",
    "# от деления. Если остаток от деления на 2 равен 0, то\n",
    "# число является чётным.\n",
    "# Обратный слэш (\\) используется в Python для того,\n",
    "# чтобы перенести одну строку кода на следующую строку.\n",
    "# Получается, что компьютер интерпретирует записанное ниже\n",
    "# как одну строку.\n",
    "is_even = lambda num: \"even\" if num % 2 == 0 \\\n",
    "    else \"odd\"\n",
    "is_even(11)"
   ]
  },
  {
   "cell_type": "code",
   "execution_count": 63,
   "metadata": {},
   "outputs": [
    {
     "name": "stdout",
     "output_type": "stream",
     "text": [
      "((1, 5, 6, 7), {'name': 'Ivan', 'age': 25})\n"
     ]
    }
   ],
   "source": [
    "full_func = lambda *args, **kwargs: (args, kwargs)\n",
    " \n",
    "print(full_func(1,5,6,7,name='Ivan', age=25))"
   ]
  },
  {
   "cell_type": "code",
   "execution_count": 64,
   "metadata": {},
   "outputs": [
    {
     "name": "stdout",
     "output_type": "stream",
     "text": [
      "['cc', 'bbb', 'aaa', 'ababa', 'aaaaa']\n"
     ]
    }
   ],
   "source": [
    "def get_length(letters):\n",
    "    return len(letters)\n",
    "new_list = ['bbb', 'ababa','aaa', 'aaaaa',  'cc']\n",
    "new_list.sort(key=get_length)\n",
    "print(new_list)"
   ]
  },
  {
   "cell_type": "code",
   "execution_count": 65,
   "metadata": {},
   "outputs": [
    {
     "name": "stdout",
     "output_type": "stream",
     "text": [
      "['cc', 'aaa', 'bbb', 'aaaaa', 'ababa']\n"
     ]
    }
   ],
   "source": [
    "new_list.sort(key=lambda word: (len(word), word))\n",
    "print(new_list)"
   ]
  },
  {
   "cell_type": "code",
   "execution_count": 66,
   "metadata": {},
   "outputs": [
    {
     "name": "stdout",
     "output_type": "stream",
     "text": [
      "5.0\n",
      "9.055385138137417\n"
     ]
    }
   ],
   "source": [
    "hyp = lambda a,b:(a**2 + b**2)**(1/2)\n",
    "print(hyp(3,4))\n",
    "print(hyp(1,9))"
   ]
  },
  {
   "cell_type": "code",
   "execution_count": 67,
   "metadata": {},
   "outputs": [
    {
     "name": "stdout",
     "output_type": "stream",
     "text": [
      "[(1, 2), (3, 4), (10, 10)]\n"
     ]
    }
   ],
   "source": [
    "def sort_sides(l_in):\n",
    "    l_in.sort(key=lambda x: (x[0]**2 + x[1]**2) ** (1/2))\n",
    "    return l_in\n",
    "print(sort_sides([(3,4), (1,2), (10,10)]))"
   ]
  },
  {
   "cell_type": "code",
   "execution_count": 68,
   "metadata": {},
   "outputs": [
    {
     "name": "stdout",
     "output_type": "stream",
     "text": [
      "Employee John Doe is registered with the company TheBlindMice\n"
     ]
    }
   ],
   "source": [
    "#объявляем внешнюю функцию для регистрации сотрудников\n",
    "def register_employee(name, surname):\n",
    "    #объявляем функцию для промежуточных вычислений\n",
    "    def create_full_name():\n",
    "        #функция использует внешние переменные name и surname\n",
    "        sep = ' ' #разделитель между именем и фамилией\n",
    "        result = name + sep + surname #вычисляем полное имя\n",
    "        return result\n",
    "    full_name = create_full_name() #вызываем внутреннюю функцию\n",
    "    #выводим результат на экран, используя внешнюю переменную company_name\n",
    "    print('Employee {} is registered with the company {}'.format(full_name, company_name))\n",
    "    \n",
    "company_name = 'TheBlindMice' #название компании\n",
    "register_employee('John','Doe') #вызов функции"
   ]
  },
  {
   "cell_type": "code",
   "execution_count": 69,
   "metadata": {},
   "outputs": [
    {
     "name": "stdout",
     "output_type": "stream",
     "text": [
      "True\n",
      "1\n",
      "2\n",
      "3\n",
      "Counter 1: 1\n",
      "Counter 1: 2\n",
      "Counter 2: 1\n",
      "Counter 1: 3\n",
      "Counter 2: 2\n",
      "Counter 2: 3\n"
     ]
    }
   ],
   "source": [
    "# Функция, которая создаёт счётчик\n",
    "def counter():\n",
    "    # Начальное значение счётчика — 0\n",
    "    number = 0\n",
    "    # Функция add будет каждый раз прибавлять\n",
    "    # к счётчику 1 при запуске\n",
    "    def add():\n",
    "        # Сообщаем, что number берём из\n",
    "        # внешней функции\n",
    "        nonlocal number\n",
    "        # Увеличиваем значение счётчика на 1   \n",
    "        number += 1\n",
    "        # Возвращаем текущее число запусков счётчика\n",
    "        return number\n",
    "    # Возвращаем не результат вычислений,\n",
    "    # а непосредственно саму функцию add\n",
    "    # без круглых скобок!\n",
    "    return add\n",
    "# В переменную counter1 сохраняем новый счётчик\n",
    "counter1 = counter()\n",
    " \n",
    "# Проверим, что counter1 действительно является вызываемым объектом,\n",
    "# то есть функцией. Для этого воспользуемся встроенной функцией\n",
    "# callable:\n",
    "print(callable(counter1))\n",
    "# Запустим counter как обычную функцию\n",
    "print(counter1())\n",
    "print(counter1())\n",
    "print(counter1())\n",
    "# Создадим два различных счётчика\n",
    "counter1 = counter()\n",
    "counter2 = counter()\n",
    "\n",
    "# Будем запускать вразнобой разные счётчики\n",
    "\n",
    "print(\"Counter 1:\", counter1())\n",
    "print(\"Counter 1:\", counter1())\n",
    "print(\"Counter 2:\", counter2())\n",
    "print(\"Counter 1:\", counter1())\n",
    "print(\"Counter 2:\", counter2())\n",
    "print(\"Counter 2:\", counter2())"
   ]
  },
  {
   "attachments": {},
   "cell_type": "markdown",
   "metadata": {},
   "source": [
    "### СУММА ЭЛЕМЕНТОВ СПИСКА ЧЕРЕЗ РЕКУРСИЮ"
   ]
  },
  {
   "cell_type": "code",
   "execution_count": 70,
   "metadata": {},
   "outputs": [
    {
     "name": "stdout",
     "output_type": "stream",
     "text": [
      "[10, 21, 24, 12]\n",
      "[21, 24, 12]\n",
      "[24, 12]\n",
      "[12]\n",
      "[]\n",
      "67\n"
     ]
    }
   ],
   "source": [
    "def sum_lst(lst):\n",
    "    # Выводим текущее значение lst\n",
    "    print(lst)\n",
    "    # Задаём условие выхода из рекурсии\n",
    "    if len(lst) == 0:return 0\n",
    "    # Во всех других случаях возвращаем\n",
    "    # сумму первого элемента списка \n",
    "    # и результат суммирования оставшихся\n",
    "    return lst[0] + sum_lst(lst[1:])\n",
    " \n",
    "my_lst = [10, 21, 24, 12]\n",
    "print(sum_lst(my_lst))"
   ]
  },
  {
   "attachments": {},
   "cell_type": "markdown",
   "metadata": {},
   "source": [
    "### Факториал"
   ]
  },
  {
   "cell_type": "code",
   "execution_count": 71,
   "metadata": {},
   "outputs": [
    {
     "name": "stdout",
     "output_type": "stream",
     "text": [
      "1\n",
      "6\n",
      "120\n"
     ]
    }
   ],
   "source": [
    "def factorial(n):\n",
    "    # Задаём условия выхода из рекурсии:\n",
    "    if n==0: return 1\n",
    "    if n==1: return 1\n",
    "    # Во всех других случаях возвращаем\n",
    "    # произведение текущего числа n и функции от n-1\n",
    "    return factorial(n-1)*n\n",
    "\n",
    "print(factorial(0))\n",
    "print(factorial(3))\n",
    "print(factorial(5))\n",
    "# Будет напечатано:\n",
    "# 1\n",
    "# 6\n",
    "# 120"
   ]
  },
  {
   "cell_type": "code",
   "execution_count": 72,
   "metadata": {},
   "outputs": [],
   "source": [
    "def factorial_for(n):\n",
    "    # Для расчёта произведения первый член — единица, а не ноль!\n",
    "    result = 1\n",
    "    # Перемножаем числа от 1 до n\n",
    "    for i in range(1, n+1):\n",
    "        result *= i\n",
    "    return result"
   ]
  },
  {
   "cell_type": "code",
   "execution_count": 73,
   "metadata": {},
   "outputs": [
    {
     "name": "stdout",
     "output_type": "stream",
     "text": [
      "3.0810937881469727\n"
     ]
    }
   ],
   "source": [
    "from time import time\n",
    "# Объявляем функцию для расчёта факториала через цикл\n",
    "def factorial_for(n):\n",
    "    # Для расчёта произведения первый член — единица, а не ноль!\n",
    "    result = 1\n",
    "    # Перемножаем числа от 1 до n\n",
    "    for i in range(1, n+1):\n",
    "        result *= i\n",
    "    return result\n",
    "# Засекаем время до начала выполнения цикла\n",
    "a = time()\n",
    "for i in range(100):\n",
    "    factorial_for(10000)\n",
    "# Засекаем время после выполнения цикла\n",
    "b = time()\n",
    "# Считаем разницу: вычисляем время, потраченное на выполнение\n",
    "print(b-a)"
   ]
  },
  {
   "cell_type": "code",
   "execution_count": 2,
   "metadata": {},
   "outputs": [
    {
     "name": "stdout",
     "output_type": "stream",
     "text": [
      "Collecting psycopg2\n",
      "  Downloading psycopg2-2.9.6-cp310-cp310-win_amd64.whl (1.2 MB)\n",
      "     ---------------------------------------- 0.0/1.2 MB ? eta -:--:--\n",
      "     ------------ --------------------------- 0.4/1.2 MB 7.4 MB/s eta 0:00:01\n",
      "     ------------------------- -------------- 0.7/1.2 MB 7.7 MB/s eta 0:00:01\n",
      "     ---------------------------------------  1.2/1.2 MB 9.2 MB/s eta 0:00:01\n",
      "     ---------------------------------------- 1.2/1.2 MB 8.2 MB/s eta 0:00:00\n",
      "Installing collected packages: psycopg2\n",
      "Successfully installed psycopg2-2.9.6\n",
      "Note: you may need to restart the kernel to use updated packages.\n"
     ]
    },
    {
     "name": "stderr",
     "output_type": "stream",
     "text": [
      "\n",
      "[notice] A new release of pip is available: 23.0.1 -> 23.1.2\n",
      "[notice] To update, run: python.exe -m pip install --upgrade pip\n"
     ]
    }
   ],
   "source": [
    "%pip install psycopg2"
   ]
  }
 ],
 "metadata": {
  "kernelspec": {
   "display_name": "Python 3",
   "language": "python",
   "name": "python3"
  },
  "language_info": {
   "codemirror_mode": {
    "name": "ipython",
    "version": 3
   },
   "file_extension": ".py",
   "mimetype": "text/x-python",
   "name": "python",
   "nbconvert_exporter": "python",
   "pygments_lexer": "ipython3",
   "version": "3.10.10"
  },
  "orig_nbformat": 4
 },
 "nbformat": 4,
 "nbformat_minor": 2
}
