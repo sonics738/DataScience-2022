{
 "cells": [
  {
   "cell_type": "code",
   "execution_count": 5,
   "metadata": {},
   "outputs": [
    {
     "ename": "NameError",
     "evalue": "name 'Data_TSUM' is not defined",
     "output_type": "error",
     "traceback": [
      "\u001b[1;31m---------------------------------------------------------------------------\u001b[0m",
      "\u001b[1;31mNameError\u001b[0m                                 Traceback (most recent call last)",
      "\u001b[1;32mc:\\Users\\sonics\\Documents\\DS 2022\\PY 14 Очистка данных\\Data\\TSUM.ipynb Cell 1\u001b[0m in \u001b[0;36m<cell line: 2>\u001b[1;34m()\u001b[0m\n\u001b[0;32m      <a href='vscode-notebook-cell:/c%3A/Users/sonics/Documents/DS%202022/PY%2014%20%D0%9E%D1%87%D0%B8%D1%81%D1%82%D0%BA%D0%B0%20%D0%B4%D0%B0%D0%BD%D0%BD%D1%8B%D1%85/Data/TSUM.ipynb#W0sZmlsZQ%3D%3D?line=0'>1</a>\u001b[0m \u001b[39mimport\u001b[39;00m \u001b[39mpandas\u001b[39;00m \u001b[39mas\u001b[39;00m \u001b[39mpd\u001b[39;00m\n\u001b[1;32m----> <a href='vscode-notebook-cell:/c%3A/Users/sonics/Documents/DS%202022/PY%2014%20%D0%9E%D1%87%D0%B8%D1%81%D1%82%D0%BA%D0%B0%20%D0%B4%D0%B0%D0%BD%D0%BD%D1%8B%D1%85/Data/TSUM.ipynb#W0sZmlsZQ%3D%3D?line=1'>2</a>\u001b[0m TSUM_df \u001b[39m=\u001b[39m pd\u001b[39m.\u001b[39mread_excel(Data_TSUM\u001b[39m.\u001b[39mxlsx)\n",
      "\u001b[1;31mNameError\u001b[0m: name 'Data_TSUM' is not defined"
     ]
    }
   ],
   "source": [
    "import pandas as pd\n",
    "TSUM_df = pd.read_excel(Data_TSUM.xlsx)"
   ]
  }
 ],
 "metadata": {
  "kernelspec": {
   "display_name": "Python 3.9.10 64-bit",
   "language": "python",
   "name": "python3"
  },
  "language_info": {
   "codemirror_mode": {
    "name": "ipython",
    "version": 3
   },
   "file_extension": ".py",
   "mimetype": "text/x-python",
   "name": "python",
   "nbconvert_exporter": "python",
   "pygments_lexer": "ipython3",
   "version": "3.9.10"
  },
  "orig_nbformat": 4,
  "vscode": {
   "interpreter": {
    "hash": "73d039a650aef5bade44b5f23b84012780bba4ac14a858962702eba92f5bbba0"
   }
  }
 },
 "nbformat": 4,
 "nbformat_minor": 2
}
